{
 "cells": [
  {
   "cell_type": "markdown",
   "metadata": {},
   "source": [
    "# Example 1: Basic fitting \n",
    "This example covers the generation of toy data, and basic fitting using the phifitter package."
   ]
  },
  {
   "cell_type": "code",
   "execution_count": 1,
   "metadata": {},
   "outputs": [],
   "source": [
    "import numpy as np\n",
    "import matplotlib.pyplot as plt\n",
    "\n",
    "from phifitter import fitter\n",
    "from phifitter import generator\n",
    "from phifitter import loss\n",
    "from phifitter import physics_model\n",
    "from phifitter import plotter\n",
    "\n",
    "%matplotlib inline"
   ]
  },
  {
   "cell_type": "markdown",
   "metadata": {},
   "source": [
    "### Generate Data \n",
    "There is a utility to generate simple data in phifitter.generator.  It returns 3 numpy arrays.  By default, it will use the physics_model class instance BeamSpinAsymmetry.  It will seed the 3 parameters randomly.  This can produce unphysical results, but can be used to test the fitters."
   ]
  },
  {
   "cell_type": "code",
   "execution_count": 2,
   "metadata": {
    "collapsed": true
   },
   "outputs": [],
   "source": [
    "phi, value, error = generator.generate()"
   ]
  },
  {
   "cell_type": "code",
   "execution_count": 3,
   "metadata": {
    "scrolled": false
   },
   "outputs": [
    {
     "data": {
      "image/png": "[encoded data removed]",
      "text/plain": [
       "<Figure size 288x216 with 1 Axes>"
      ]
     },
     "metadata": {},
     "output_type": "display_data"
    }
   ],
   "source": [
    "plotter.plot_phi(phi, value, error)"
   ]
  },
  {
   "cell_type": "markdown",
   "metadata": {},
   "source": [
    "We can also pass in our own parameters and model."
   ]
  },
  {
   "cell_type": "code",
   "execution_count": 4,
   "metadata": {
    "collapsed": true
   },
   "outputs": [],
   "source": [
    "model = physics_model.BeamSpinAsymmetryModel() \n",
    "parameters = np.array([0.05, 0.0, 0.0])\n",
    "phi, value, error = generator.generate(model=model, \n",
    "                                       parameters=parameters,\n",
    "                                      error=0.01, n_values=16)"
   ]
  },
  {
   "cell_type": "code",
   "execution_count": 5,
   "metadata": {},
   "outputs": [
    {
     "data": {
      "image/png": "[encoded data removed]",
      "text/plain": [
       "<Figure size 288x216 with 1 Axes>"
      ]
     },
     "metadata": {},
     "output_type": "display_data"
    }
   ],
   "source": [
    "plotter.plot_phi(phi, value, error)"
   ]
  },
  {
   "cell_type": "markdown",
   "metadata": {},
   "source": [
    "### Perform fits\n",
    "This fit should be relatively easy, due to the number of bins and the size of the error compared to the size of the asymmetry."
   ]
  },
  {
   "cell_type": "code",
   "execution_count": 6,
   "metadata": {
    "collapsed": true
   },
   "outputs": [],
   "source": [
    "# Parameter bounds, these are physically motivated\n",
    "bounds = [[-1, 1], [-1, 1], [-1, 1]]\n",
    "x0 = [0.0, 0.0, 0.0]"
   ]
  },
  {
   "cell_type": "code",
   "execution_count": 7,
   "metadata": {
    "collapsed": true
   },
   "outputs": [],
   "source": [
    "# we're going to showcase several different fitters \n",
    "fitters = {}\n",
    "\n",
    "fitters['single'] = fitter.SingleFitter(model=model, \n",
    "                                        loss_function=loss.chi2, \n",
    "                                        bounds=bounds)\n",
    "fitters['regularized'] = fitter.SingleRegularizedFitter(model=model, \n",
    "                                        loss_function=loss.chi2, \n",
    "                                        bounds=bounds, \n",
    "                                        penalty=0.1)\n",
    "fitters['replica'] = fitter.ReplicaFitter(model=model, \n",
    "                                        loss_function=loss.chi2, \n",
    "                                        bounds=bounds,\n",
    "                                         n_replicas=100, \n",
    "                                         n_cores=4)"
   ]
  },
  {
   "cell_type": "code",
   "execution_count": 8,
   "metadata": {},
   "outputs": [
    {
     "name": "stderr",
     "output_type": "stream",
     "text": [
      "100%|██████████| 25/25 [00:02<00:00, 11.38it/s]\n",
      "100%|██████████| 25/25 [00:02<00:00, 11.10it/s]\n",
      "100%|██████████| 25/25 [00:02<00:00, 10.82it/s]\n",
      "100%|██████████| 25/25 [00:02<00:00, 10.95it/s]\n"
     ]
    }
   ],
   "source": [
    "for name in fitters.keys():\n",
    "    fitters[name].fit(phi, value, error)"
   ]
  },
  {
   "cell_type": "markdown",
   "metadata": {},
   "source": [
    "For now, the results of the fit are stored inside the fitter."
   ]
  },
  {
   "cell_type": "code",
   "execution_count": 9,
   "metadata": {},
   "outputs": [
    {
     "name": "stdout",
     "output_type": "stream",
     "text": [
      "loss = 2219.938, quality = 0.000\n",
      "loss = 27.515, quality = 0.036\n",
      "loss = 15.060, quality = 0.520\n"
     ]
    }
   ],
   "source": [
    "for name in fitters.keys():\n",
    "    print('loss = %.3f, quality = %.3f' % (fitters[name].loss, fitters[name].quality))"
   ]
  },
  {
   "cell_type": "code",
   "execution_count": 10,
   "metadata": {},
   "outputs": [
    {
     "data": {
      "image/png": "[encoded data removed]",
      "text/plain": [
       "<Figure size 288x216 with 1 Axes>"
      ]
     },
     "metadata": {},
     "output_type": "display_data"
    }
   ],
   "source": [
    "plotter.plot_replicas(phi, value, error, model, fitters['replica'].fit_container)"
   ]
  },
  {
   "cell_type": "code",
   "execution_count": 31,
   "metadata": {},
   "outputs": [
    {
     "data": {
      "image/png": "[encoded data removed]",
      "text/plain": [
       "<Figure size 576x396 with 1 Axes>"
      ]
     },
     "metadata": {},
     "output_type": "display_data"
    }
   ],
   "source": [
    "plt.hist2d(fitters['replica'].fit_container[:,0], \n",
    "           fitters['replica'].fit_container[:,1], \n",
    "           bins=60);"
   ]
  },
  {
   "cell_type": "code",
   "execution_count": 32,
   "metadata": {
    "collapsed": true
   },
   "outputs": [],
   "source": [
    "import seaborn as sns"
   ]
  },
  {
   "cell_type": "code",
   "execution_count": 36,
   "metadata": {
    "scrolled": false
   },
   "outputs": [
    {
     "data": {
      "text/plain": [
       "<matplotlib.axes._subplots.AxesSubplot at 0x102f2b110>"
      ]
     },
     "execution_count": 36,
     "metadata": {},
     "output_type": "execute_result"
    },
    {
     "data": {
      "image/png": "[encoded data removed]",
      "text/plain": [
       "<Figure size 576x396 with 1 Axes>"
      ]
     },
     "metadata": {},
     "output_type": "display_data"
    }
   ],
   "source": [
    "sns.kdeplot(fitters['replica'].fit_container[:,0], \n",
    "           fitters['replica'].fit_container[:,2], \n",
    "           shade=True, cmap='Blues',\n",
    "           shade_lowest=False)"
   ]
  },
  {
   "cell_type": "code",
   "execution_count": null,
   "metadata": {
    "collapsed": true
   },
   "outputs": [],
   "source": []
  }
 ],
 "metadata": {
  "kernelspec": {
   "display_name": "Python 2",
   "language": "python",
   "name": "python2"
  },
  "language_info": {
   "codemirror_mode": {
    "name": "ipython",
    "version": 2
   },
   "file_extension": ".py",
   "mimetype": "text/x-python",
   "name": "python",
   "nbconvert_exporter": "python",
   "pygments_lexer": "ipython2",
   "version": "2.7.13"
  }
 },
 "nbformat": 4,
 "nbformat_minor": 2
}
