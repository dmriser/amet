{
 "cells": [
  {
   "cell_type": "markdown",
   "metadata": {},
   "source": [
    "# Example 1: Basic fitting \n",
    "This example covers the generation of toy data, and basic fitting using the phifitter package."
   ]
  },
  {
   "cell_type": "code",
   "execution_count": 1,
   "metadata": {
    "collapsed": true
   },
   "outputs": [],
   "source": [
    "import numpy as np\n",
    "import matplotlib.pyplot as plt\n",
    "\n",
    "from phifitter import fitter\n",
    "from phifitter import generator\n",
    "from phifitter import loss\n",
    "from phifitter import physics_model\n",
    "from phifitter import plotter\n",
    "\n",
    "%matplotlib inline"
   ]
  },
  {
   "cell_type": "markdown",
   "metadata": {},
   "source": [
    "### Generate Data \n",
    "There is a utility to generate simple data in phifitter.generator.  It returns 3 numpy arrays.  By default, it will use the physics_model class instance BeamSpinAsymmetry.  It will seed the 3 parameters randomly.  This can produce unphysical results, but can be used to test the fitters."
   ]
  },
  {
   "cell_type": "code",
   "execution_count": 2,
   "metadata": {
    "collapsed": true
   },
   "outputs": [],
   "source": [
    "phi, value, error = generator.generate()"
   ]
  },
  {
   "cell_type": "code",
   "execution_count": 3,
   "metadata": {
    "scrolled": false
   },
   "outputs": [
    {
     "data": {
      "image/png": "[encoded data removed]",
      "text/plain": [
       "<Figure size 288x216 with 1 Axes>"
      ]
     },
     "metadata": {},
     "output_type": "display_data"
    }
   ],
   "source": [
    "plotter.plot_phi(phi, value, error)"
   ]
  },
  {
   "cell_type": "markdown",
   "metadata": {},
   "source": [
    "We can also pass in our own parameters and model."
   ]
  },
  {
   "cell_type": "code",
   "execution_count": 12,
   "metadata": {
    "collapsed": true
   },
   "outputs": [],
   "source": [
    "model = physics_model.BeamSpinAsymmetryModel() \n",
    "parameters = np.array([0.05, 0.01, -0.02])\n",
    "phi, value, error = generator.generate(model=model, \n",
    "                                       parameters=parameters,\n",
    "                                      error=0.001, n_values=12)"
   ]
  },
  {
   "cell_type": "code",
   "execution_count": 13,
   "metadata": {},
   "outputs": [
    {
     "data": {
      "image/png": "[encoded data removed]",
      "text/plain": [
       "<Figure size 288x216 with 1 Axes>"
      ]
     },
     "metadata": {},
     "output_type": "display_data"
    }
   ],
   "source": [
    "plotter.plot_phi(phi, value, error)"
   ]
  },
  {
   "cell_type": "markdown",
   "metadata": {},
   "source": [
    "### Perform fits\n",
    "This fit should be relatively easy, due to the number of bins and the size of the error compared to the size of the asymmetry."
   ]
  },
  {
   "cell_type": "code",
   "execution_count": 14,
   "metadata": {
    "collapsed": true
   },
   "outputs": [],
   "source": [
    "# Parameter bounds, these are physically motivated\n",
    "bounds = [[-1, 1], [-1, 1], [-1, 1]]\n",
    "x0 = [0.0, 0.0, 0.0]"
   ]
  },
  {
   "cell_type": "code",
   "execution_count": 15,
   "metadata": {
    "collapsed": true
   },
   "outputs": [],
   "source": [
    "# we're going to showcase several different fitters \n",
    "fitters = {}\n",
    "\n",
    "fitters['single'] = fitter.SingleFitter(model=model, \n",
    "                                        loss_function=loss.chi2, \n",
    "                                        bounds=bounds)\n",
    "fitters['regularized'] = fitter.SingleRegularizedFitter(model=model, \n",
    "                                        loss_function=loss.chi2, \n",
    "                                        bounds=bounds, \n",
    "                                        penalty=0.1)\n",
    "fitters['replica'] = fitter.ReplicaFitter(model=model, \n",
    "                                        loss_function=loss.chi2, \n",
    "                                        bounds=bounds,\n",
    "                                         n_replicas=150, \n",
    "                                         n_cores=1)"
   ]
  },
  {
   "cell_type": "code",
   "execution_count": 16,
   "metadata": {},
   "outputs": [
    {
     "name": "stderr",
     "output_type": "stream",
     "text": [
      " 16%|█▌        | 24/150 [00:00<00:00, 222.23it/s]"
     ]
    },
    {
     "name": "stdout",
     "output_type": "stream",
     "text": [
      "('Starting with with parameters', array([-0.79941968, -0.50969294,  0.35317663]))\n",
      "('Starting with with parameters', array([-0.32702474, -0.53452302,  0.53415032]))\n",
      "('Starting with with parameters', array([ 0.75818653,  0.32637421, -0.25725972]))\n",
      "('Starting with with parameters', array([ 0.80690136, -0.35194702,  0.61153392]))\n",
      "('Starting with with parameters', array([-0.37880745,  0.67275722,  0.11698137]))\n",
      "('Starting with with parameters', array([ 0.97010825,  0.22647038, -0.75051246]))\n",
      "('Starting with with parameters', array([-0.56875926, -0.30993106,  0.56929193]))\n",
      "('Starting with with parameters', array([-0.74793408, -0.366891  ,  0.3740107 ]))\n",
      "('Starting with with parameters', array([ 0.0546403 , -0.86671313,  0.12320998]))\n",
      "('Starting with with parameters', array([ 0.58430776, -0.85646037,  0.08161066]))\n",
      "('Starting with with parameters', array([ 0.53481897,  0.21049654, -0.9715062 ]))\n",
      "('Starting with with parameters', array([-0.64397625, -0.54481557,  0.40418985]))\n",
      "('Starting with with parameters', array([0.00878776, 0.06743618, 0.1697905 ]))\n",
      "('Starting with with parameters', array([0.15095811, 0.48428201, 0.07862836]))\n",
      "('Starting with with parameters', array([ 0.13257787,  0.63601784, -0.51571324]))\n",
      "('Starting with with parameters', array([-0.3904094 , -0.10535492, -0.64411007]))\n",
      "('Starting with with parameters', array([-0.32504376, -0.47095914,  0.73577075]))\n",
      "('Starting with with parameters', array([-0.81381798, -0.56764953,  0.60667705]))\n",
      "('Starting with with parameters', array([ 0.77624642, -0.58819566, -0.07354027]))\n",
      "('Starting with with parameters', array([-0.20898229,  0.84247578,  0.53412967]))\n",
      "('Starting with with parameters', array([-0.69987826,  0.0771181 , -0.95419849]))\n",
      "('Starting with with parameters', array([-0.61549084,  0.06604828,  0.36325462]))\n",
      "('Starting with with parameters', array([-0.55388256, -0.75869148, -0.7613214 ]))\n",
      "('Starting with with parameters', array([ 0.19384432, -0.3062137 , -0.96023717]))\n",
      "('Starting with with parameters', array([ 0.24959647, -0.48477921,  0.48055933]))\n",
      "('Starting with with parameters', array([-0.93451709, -0.57801706, -0.48767508]))\n",
      "('Starting with with parameters', array([ 0.21498648,  0.87110077, -0.91400548]))\n",
      "('Starting with with parameters', array([-0.20672304,  0.23473537,  0.57034681]))\n",
      "('Starting with with parameters', array([ 0.29418917,  0.28109051, -0.92472319]))\n",
      "('Starting with with parameters', array([0.56633382, 0.30087741, 0.70403214]))\n",
      "('Starting with with parameters', array([-0.18439008, -0.40070202, -0.53465532]))\n",
      "('Starting with with parameters', array([-0.12665131,  0.74414665,  0.57700764]))\n",
      "('Starting with with parameters', array([-0.05204537, -0.94612838,  0.99510614]))\n",
      "('Starting with with parameters', array([ 0.82607157, -0.44687005,  0.47565393]))\n",
      "('Starting with with parameters', array([-0.78077312,  0.82336838,  0.22245631]))\n",
      "('Starting with with parameters', array([ 0.70878136, -0.81327467,  0.11243055]))\n",
      "('Starting with with parameters', array([0.10209581, 0.03745845, 0.18827245]))\n",
      "('Starting with with parameters', array([-0.62067807,  0.47682533, -0.53762619]))\n",
      "('Starting with with parameters', array([0.98174597, 0.01040925, 0.26306598]))\n",
      "('Starting with with parameters', array([ 0.92278959,  0.7279129 , -0.57053036]))\n",
      "('Starting with with parameters', array([-0.5550737 , -0.50980993, -0.38922903]))\n",
      "('Starting with with parameters', array([-0.67288926,  0.571645  ,  0.8181567 ]))\n",
      "('Starting with with parameters', array([-0.86199746, -0.31103388, -0.98809563]))\n",
      "('Starting with with parameters', array([-0.63465753, -0.52635976, -0.48566402]))"
     ]
    },
    {
     "name": "stderr",
     "output_type": "stream",
     "text": [
      " 47%|████▋     | 71/150 [00:00<00:00, 223.45it/s]"
     ]
    },
    {
     "name": "stdout",
     "output_type": "stream",
     "text": [
      "\n",
      "('Starting with with parameters', array([ 0.83499495,  0.53903155, -0.26594043]))\n",
      "('Starting with with parameters', array([-0.01280938,  0.60976181,  0.35099984]))\n",
      "('Starting with with parameters', array([-0.50731521,  0.92579247,  0.15716735]))\n",
      "('Starting with with parameters', array([ 0.67425754,  0.35689932, -0.17711773]))\n",
      "('Starting with with parameters', array([ 0.95385224, -0.46121896,  0.54469554]))\n",
      "('Starting with with parameters', array([-0.34126001, -0.34800246, -0.62885555]))\n",
      "('Starting with with parameters', array([-0.42273096,  0.17053095,  0.25302652]))\n",
      "('Starting with with parameters', array([-0.30003277, -0.68809047,  0.07062031]))\n",
      "('Starting with with parameters', array([0.49060621, 0.93557715, 0.21428715]))\n",
      "('Starting with with parameters', array([-0.54778411,  0.8481884 ,  0.41732771]))\n",
      "('Starting with with parameters', array([ 0.91414444,  0.42200793, -0.9942234 ]))\n",
      "('Starting with with parameters', array([0.0532716 , 0.18543801, 0.76643523]))\n",
      "('Starting with with parameters', array([-0.12430853,  0.74130679,  0.95565454]))\n",
      "('Starting with with parameters', array([-0.6113538 , -0.07348688, -0.98728118]))\n",
      "('Starting with with parameters', array([ 0.29900555,  0.32723043, -0.04519279]))\n",
      "('Starting with with parameters', array([-0.30957032, -0.76570988, -0.50858047]))\n",
      "('Starting with with parameters', array([-0.6514335 , -0.2265148 , -0.41407808]))\n",
      "('Starting with with parameters', array([-0.79681778, -0.76863457,  0.49601049]))\n",
      "('Starting with with parameters', array([-0.18114574,  0.10204432,  0.33038162]))\n",
      "('Starting with with parameters', array([-0.29329044, -0.19749257, -0.14075477]))\n",
      "('Starting with with parameters', array([0.64554555, 0.89139726, 0.37521845]))\n",
      "('Starting with with parameters', array([0.3377503 , 0.42945711, 0.30389066]))\n",
      "('Starting with with parameters', array([-0.91608484,  0.51565464,  0.31289199]))\n",
      "('Starting with with parameters', array([-0.5302615 ,  0.00660915, -0.86192203]))\n",
      "('Starting with with parameters', array([ 0.99837478, -0.55417433,  0.63377887]))\n",
      "('Starting with with parameters', array([ 0.29224976, -0.55486229,  0.45660073]))\n",
      "('Starting with with parameters', array([-0.43046281,  0.6154243 ,  0.14313727]))\n",
      "('Starting with with parameters', array([0.15672738, 0.08412406, 0.84371664]))\n",
      "('Starting with with parameters', array([ 0.39142215, -0.35548276, -0.01531654]))\n",
      "('Starting with with parameters', array([0.01841973, 0.44485642, 0.70699749]))\n",
      "('Starting with with parameters', array([-0.74726091,  0.84861833, -0.10183997]))\n",
      "('Starting with with parameters', array([-0.1856009 , -0.81839323, -0.45978271]))\n",
      "('Starting with with parameters', array([-0.04147634,  0.69709762, -0.44899367]))\n",
      "('Starting with with parameters', array([ 0.48898318, -0.41756215,  0.17837723]))\n",
      "('Starting with with parameters', array([-0.51670891, -0.27457646, -0.15483846]))\n",
      "('Starting with with parameters', array([-0.68098833, -0.05640264,  0.2881561 ]))\n",
      "('Starting with with parameters', array([-0.44180634,  0.41366764, -0.61321598]))\n",
      "('Starting with with parameters', array([-0.11426726,  0.58859395, -0.18901867]))\n",
      "('Starting with with parameters', array([ 0.51677352, -0.56772805,  0.28739848]))\n",
      "('Starting with with parameters', array([-0.32856045,  0.3417491 ,  0.11869235]))\n",
      "('Starting with with parameters', array([ 0.15313864, -0.47577381, -0.1408478 ]))\n",
      "('Starting with with parameters', array([-0.56855868, -0.33072037, -0.72355957]))\n",
      "('Starting with with parameters', array([ 0.23473848, -0.59884517, -0.05993359]))\n",
      "('Starting with with parameters', array([-0.14981309,  0.8831454 ,  0.12898319]))\n",
      "('Starting with with parameters', array([-0.60180572, -0.6436349 , -0.94115732]))\n"
     ]
    },
    {
     "name": "stderr",
     "output_type": "stream",
     "text": [
      "\r",
      " 60%|██████    | 90/150 [00:00<00:00, 209.77it/s]"
     ]
    },
    {
     "name": "stdout",
     "output_type": "stream",
     "text": [
      "('Starting with with parameters', array([0.70878145, 0.14122387, 0.08740677]))\n",
      "('Starting with with parameters', array([-0.36978389,  0.41738868,  0.13574751]))\n",
      "('Starting with with parameters', array([0.6019765 , 0.84263979, 0.65738752]))\n",
      "('Starting with with parameters', array([-0.70636486,  0.05953466,  0.18629427]))\n",
      "('Starting with with parameters', array([-0.9088247 ,  0.55293522, -0.44630951]))\n",
      "('Starting with with parameters', array([-0.79533827,  0.33759413,  0.95726389]))\n",
      "('Starting with with parameters', array([ 0.39019317, -0.05747616,  0.36535953]))\n",
      "('Starting with with parameters', array([-0.00187485,  0.00449396,  0.12430727]))\n",
      "('Starting with with parameters', array([ 0.01135017, -0.67277192, -0.20671989]))\n",
      "('Starting with with parameters', array([0.8585179 , 0.67836989, 0.85944994]))\n",
      "('Starting with with parameters', array([0.80962423, 0.18054753, 0.13019047]))\n",
      "('Starting with with parameters', array([ 0.6594551 , -0.75462555,  0.81116059]))\n",
      "('Starting with with parameters', array([ 0.75565344, -0.34557711, -0.67985166]))\n"
     ]
    },
    {
     "name": "stderr",
     "output_type": "stream",
     "text": [
      " 80%|████████  | 120/150 [00:00<00:00, 164.84it/s]"
     ]
    },
    {
     "name": "stdout",
     "output_type": "stream",
     "text": [
      "('Starting with with parameters', array([-0.13444976, -0.88687286, -0.0651538 ]))\n",
      "('Starting with with parameters', array([ 0.53875019, -0.36434252, -0.01360723]))\n",
      "('Starting with with parameters', array([0.74428096, 0.41724154, 0.90299883]))\n",
      "('Starting with with parameters', array([-0.59993321, -0.10003953,  0.35249304]))\n",
      "('Starting with with parameters', array([-0.47357205,  0.3465048 , -0.17343022]))\n",
      "('Starting with with parameters', array([-0.46134161,  0.33088238,  0.60851401]))\n",
      "('Starting with with parameters', array([-0.2866013 , -0.47388121, -0.54013834]))\n",
      "('Starting with with parameters', array([0.64528519, 0.28915488, 0.49953931]))\n",
      "('Starting with with parameters', array([-0.34526396, -0.00872409,  0.3810083 ]))\n",
      "('Starting with with parameters', array([ 0.93515372, -0.47235874, -0.52158662]))\n",
      "('Starting with with parameters', array([-0.44644182,  0.12378015, -0.84360873]))\n",
      "('Starting with with parameters', array([0.36775283, 0.81804502, 0.01205834]))\n",
      "('Starting with with parameters', array([-0.25761741,  0.52514273, -0.04919438]))\n",
      "('Starting with with parameters', array([ 0.0261483 , -0.49201182,  0.06836338]))\n",
      "('Starting with with parameters', array([-0.47233126,  0.79619196, -0.62972442]))\n",
      "('Starting with with parameters', array([ 0.93837629,  0.3708971 , -0.46862075]))\n",
      "('Starting with with parameters', array([ 0.85535309, -0.43826702,  0.10263788]))\n",
      "('Starting with with parameters', array([ 0.58609703,  0.775534  , -0.50096713]))\n",
      "('Starting with with parameters', array([-0.18238279,  0.42174816, -0.11178665]))\n",
      "('Starting with with parameters', array([0.47676951, 0.41437913, 0.22510514]))\n",
      "('Starting with with parameters', array([ 0.56008474,  0.57621274, -0.4397445 ]))\n",
      "('Starting with with parameters', array([-0.71973124,  0.63831644,  0.01351852]))\n",
      "('Starting with with parameters', array([-0.62385648, -0.1178413 , -0.40275408]))\n",
      "('Starting with with parameters', array([0.30603802, 0.95005167, 0.90546196]))\n",
      "('Starting with with parameters', array([ 0.18233492, -0.49076205,  0.98058932]))\n",
      "('Starting with with parameters', array([-0.58336444, -0.33848306,  0.48890921]))\n",
      "('Starting with with parameters', array([-0.00504105, -0.2909508 , -0.72005396]))\n",
      "('Starting with with parameters', array([ 0.22400758,  0.41769633, -0.22245841]))\n",
      "('Starting with with parameters', array([ 0.38279793, -0.75436223, -0.99854431]))\n",
      "('Starting with with parameters', array([-0.35235632, -0.72976081,  0.00988628]))\n",
      "('Starting with with parameters', array([ 0.25406132, -0.62227093,  0.59767719]))\n",
      "('Starting with with parameters', array([ 0.84427169, -0.92004762, -0.30907361]))\n",
      "('Starting with with parameters', array([0.13602302, 0.1027945 , 0.87234989]))\n",
      "('Starting with with parameters', array([ 0.23217558, -0.85540505, -0.24465046]))\n",
      "('Starting with with parameters', array([-0.3166907 , -0.82580845, -0.91058968]))\n",
      "('Starting with with parameters', array([ 0.64126758,  0.7993954 , -0.88602895]))"
     ]
    },
    {
     "name": "stderr",
     "output_type": "stream",
     "text": [
      "100%|██████████| 150/150 [00:00<00:00, 174.79it/s]"
     ]
    },
    {
     "name": "stdout",
     "output_type": "stream",
     "text": [
      "\n",
      "('Starting with with parameters', array([-0.53906113,  0.06519766,  0.68711177]))\n",
      "('Starting with with parameters', array([ 0.79541238, -0.30867365, -0.61753854]))\n",
      "('Starting with with parameters', array([-0.89977378, -0.13763275, -0.35126346]))\n",
      "('Starting with with parameters', array([-0.92659482,  0.29752743, -0.24775577]))\n",
      "('Starting with with parameters', array([ 0.11374799,  0.66306658, -0.85653072]))\n",
      "('Starting with with parameters', array([ 0.83075789, -0.06836806,  0.79774235]))\n",
      "('Starting with with parameters', array([ 0.66783368, -0.10310261, -0.01408025]))\n",
      "('Starting with with parameters', array([ 0.1285675 , -0.0751686 ,  0.58774834]))\n",
      "('Starting with with parameters', array([ 0.60713251,  0.92643169, -0.21469517]))\n",
      "('Starting with with parameters', array([ 0.37429643, -0.45440512, -0.19647327]))\n",
      "('Starting with with parameters', array([ 0.1669971 , -0.17586966, -0.06100183]))\n",
      "('Starting with with parameters', array([-0.08281954, -0.27470277,  0.29409997]))\n",
      "('Starting with with parameters', array([-0.2000516 , -0.98185089, -0.61654112]))\n"
     ]
    },
    {
     "name": "stderr",
     "output_type": "stream",
     "text": [
      "\n"
     ]
    }
   ],
   "source": [
    "for name in fitters.keys():\n",
    "    fitters[name].fit(phi, value, error)"
   ]
  },
  {
   "cell_type": "markdown",
   "metadata": {},
   "source": [
    "For now, the results of the fit are stored inside the fitter."
   ]
  },
  {
   "cell_type": "code",
   "execution_count": 17,
   "metadata": {},
   "outputs": [
    {
     "name": "stdout",
     "output_type": "stream",
     "text": [
      "loss = 562602.906, quality = 0.000\n",
      "loss = 8613.793, quality = 0.000\n",
      "loss = 1499.321, quality = 0.000\n"
     ]
    }
   ],
   "source": [
    "for name in fitters.keys():\n",
    "    print('loss = %.3f, quality = %.3f' % (fitters[name].loss, fitters[name].quality))"
   ]
  },
  {
   "cell_type": "code",
   "execution_count": 18,
   "metadata": {},
   "outputs": [
    {
     "data": {
      "image/png": "[encoded data removed]",
      "text/plain": [
       "<Figure size 288x216 with 1 Axes>"
      ]
     },
     "metadata": {},
     "output_type": "display_data"
    }
   ],
   "source": [
    "plotter.plot_replicas(phi, value, error, model, fitters['replica'].fit_container)"
   ]
  },
  {
   "cell_type": "code",
   "execution_count": 19,
   "metadata": {},
   "outputs": [
    {
     "data": {
      "image/png": "[encoded data removed]",
      "text/plain": [
       "<Figure size 432x288 with 1 Axes>"
      ]
     },
     "metadata": {},
     "output_type": "display_data"
    }
   ],
   "source": [
    "plt.hist2d(fitters['replica'].fit_container[:,1], \n",
    "           fitters['replica'].fit_container[:,2], \n",
    "           bins=40);"
   ]
  },
  {
   "cell_type": "code",
   "execution_count": null,
   "metadata": {
    "collapsed": true
   },
   "outputs": [],
   "source": []
  }
 ],
 "metadata": {
  "kernelspec": {
   "display_name": "Python 2",
   "language": "python",
   "name": "python2"
  },
  "language_info": {
   "codemirror_mode": {
    "name": "ipython",
    "version": 2
   },
   "file_extension": ".py",
   "mimetype": "text/x-python",
   "name": "python",
   "nbconvert_exporter": "python",
   "pygments_lexer": "ipython2",
   "version": "2.7.13"
  }
 },
 "nbformat": 4,
 "nbformat_minor": 2
}
